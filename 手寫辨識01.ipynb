{
  "nbformat": 4,
  "nbformat_minor": 0,
  "metadata": {
    "colab": {
      "provenance": [],
      "authorship_tag": "ABX9TyMppit1FjXc2Ywndvh3kYj2",
      "include_colab_link": true
    },
    "kernelspec": {
      "name": "python3",
      "display_name": "Python 3"
    },
    "language_info": {
      "name": "python"
    }
  },
  "cells": [
    {
      "cell_type": "markdown",
      "metadata": {
        "id": "view-in-github",
        "colab_type": "text"
      },
      "source": [
        "<a href=\"https://colab.research.google.com/github/Ming-sean-Tsai/tibaml1017/blob/main/%E6%89%8B%E5%AF%AB%E8%BE%A8%E8%AD%9801.ipynb\" target=\"_parent\"><img src=\"https://colab.research.google.com/assets/colab-badge.svg\" alt=\"Open In Colab\"/></a>"
      ]
    },
    {
      "cell_type": "code",
      "execution_count": 47,
      "metadata": {
        "id": "Cbj2vKymTsJj",
        "colab": {
          "base_uri": "https://localhost:8080/",
          "height": 152
        },
        "outputId": "8bf5c171-802f-435c-bb94-03b28a089696"
      },
      "outputs": [
        {
          "output_type": "display_data",
          "data": {
            "text/plain": [
              "<PIL.Image.Image image mode=RGB size=50x50 at 0x7F510A5EB5D0>"
            ],
            "image/png": "[encoded data removed]"
          },
          "metadata": {}
        },
        {
          "output_type": "stream",
          "name": "stdout",
          "text": [
            "(50, 50, 3)\n"
          ]
        },
        {
          "output_type": "display_data",
          "data": {
            "text/plain": [
              "<PIL.Image.Image image mode=RGB size=50x50 at 0x7F510A5EB110>"
            ],
            "image/png": "[encoded data removed]"
          },
          "metadata": {}
        },
        {
          "output_type": "stream",
          "name": "stdout",
          "text": [
            "(50, 50, 3)\n"
          ]
        }
      ],
      "source": [
        "import cv2\n",
        "import numpy as np\n",
        "import IPython.display as dp\n",
        "from google.colab.patches import cv2_imshow\n",
        "from PIL import ImageFont, ImageDraw, Image\n",
        "\n",
        "\n",
        "m1 = cv2.imread('A100.jpg', 1)\n",
        "\n",
        "copy = m1.copy()\n",
        "\n",
        "m1_g = cv2.cvtColor(m1, cv2.COLOR_BGR2GRAY) # 手寫字轉灰階\n",
        "\n",
        "ret, m1_new = cv2.threshold(m1_g, 127, 255, cv2.THRESH_BINARY) # 手寫字轉黑底白字 \n",
        "\n",
        "erode = cv2.erode(copy, np.ones((30, 30))) #抓字\n",
        "\n",
        "gray = cv2.cvtColor(copy, cv2.COLOR_BGR2GRAY) #轉灰階\n",
        "\n",
        "blur = cv2.GaussianBlur(gray,(5,5),0)   #模糊化\n",
        "\n",
        "\n",
        "canny = cv2.Canny(blur, 70, 210)\n",
        "\n",
        "th, canny = cv2.threshold(canny, 10, 255, cv2.THRESH_BINARY)\n",
        "\n",
        "morph = cv2.morphologyEx(canny, cv2.MORPH_GRADIENT, np.ones((10, 10))) \n",
        "p, t = cv2.findContours(morph, cv2.RETR_EXTERNAL, cv2.CHAIN_APPROX_SIMPLE)\n",
        "\n",
        "if len(p)== 1:\n",
        "    x, y, w, h = cv2.boundingRect(p[0]) \n",
        "    cv2.rectangle(m1_new, (x,y), (x+w, y+h), (255, 255, 255), 2) #框線改白色\n",
        "    capture_img = m1_new[y : y + h, x : x + w] #框起來的地方\n",
        "    \n",
        "    resize_capture = cv2.resize(capture_img, (50, 50), interpolation=cv2.INTER_AREA)\n",
        "\n",
        "    cv2.imwrite(\"resize_capture.png\", resize_capture) #存成 50*50 的手寫字\n",
        "    resize_capture = cv2.imread(\"resize_capture.png\", 1)\n",
        "    # 手寫辨識\n",
        "    y_dict = {0:\"者\",1:\"我\",2:\"國\",3:\"來\",4:\"面\",5:\"過\",6:\"為\",7:\"大\",8:\"成\",9:\"民\"}\n",
        "    m = cv2.ml.KNearest_load('tch_knn.xml')   # 載入模型\n",
        "    img = cv2.imread(\"resize_capture.png\", 0)\n",
        "    ret, img = cv2.threshold(img, 127, 255, cv2.THRESH_BINARY_INV)\n",
        "    img = cv2.resize(img,(50, 50))\n",
        "    img = img.astype(np.float32)    # 轉換格式\n",
        "    img = img.reshape(-1)          # 打散成一維陣列資料，轉換成辨識使用的格式\n",
        "    img = img.reshape(1,-1)\n",
        "    img = img/255\n",
        "\n",
        "    img_pre = m.predict(img)          # 進行辨識\n",
        "\n",
        "    text = y_dict[int(img_pre[1][0][0])]        # 取得辨識結果\n",
        "\n",
        "\n",
        "    compare_word = np.full((50, 50, 3), (255, 255, 255), np.uint8) \n",
        "    compare_word = Image.fromarray(compare_word)\n",
        "    ImageDraw.Draw(compare_word).text((0,0),\n",
        "                (text), #要換成練習的字\n",
        "                (0, 0, 0),\n",
        "                ImageFont.truetype(\"ThePeakFontBeta_V0_101.ttf\", 50)  #要上傳字體\n",
        "    )\n",
        "    compare_word = np.array(compare_word)\n",
        "    \n",
        "\n",
        "     \n",
        "\n",
        "    copy = compare_word.copy()\n",
        "\n",
        "    # erode = cv2.erode(copy, np.ones((30, 30)))  \n",
        "\n",
        "    # blur = cv2.GaussianBlur(erode,(5,5),0) \n",
        "\n",
        "    canny = cv2.Canny(copy, 70, 210)\n",
        "\n",
        "    th, canny = cv2.threshold(canny, 10, 255, cv2.THRESH_BINARY)\n",
        "\n",
        "    morph = cv2.morphologyEx(canny, cv2.MORPH_GRADIENT, np.ones((10, 10))) \n",
        "    p, t = cv2.findContours(morph, cv2.RETR_EXTERNAL, cv2.CHAIN_APPROX_SIMPLE)\n",
        "    x, y, w, h = cv2.boundingRect(p[0]) \n",
        "    cv2.rectangle(compare_word, (x,y), (x+w, y+h), (255, 255, 255), 2)  #框線改白色\n",
        "    compare2_img = compare_word[y : y + h, x : x + w] #要再resize\n",
        "\n",
        "    \n",
        "\n",
        "    resize_compare = cv2.resize(compare2_img, (50, 50), interpolation=cv2.INTER_AREA)\n",
        "\n",
        "    cv2_imshow(resize_capture)\n",
        "    print(resize_capture.shape)\n",
        "    cv2_imshow(resize_compare)\n",
        "    print(resize_compare.shape) # 最後請用resize_capture.png 跟resize_compare.png 比對分數\n",
        "\n",
        "else:\n",
        "  print(\"請靠近文字再拍攝一次\")\n",
        "\n"
      ]
    }
  ]
}