{
  "nbformat": 4,
  "nbformat_minor": 0,
  "metadata": {
    "colab": {
      "provenance": [],
      "authorship_tag": "ABX9TyPzOBlmXx/RotvMRY6ffarN",
      "include_colab_link": true
    },
    "kernelspec": {
      "name": "python3",
      "display_name": "Python 3"
    },
    "language_info": {
      "name": "python"
    }
  },
  "cells": [
    {
      "cell_type": "markdown",
      "metadata": {
        "id": "view-in-github",
        "colab_type": "text"
      },
      "source": [
        "<a href=\"https://colab.research.google.com/github/Ming-sean-Tsai/tibaml1017/blob/main/%E6%89%8B%E5%AF%AB%E8%BE%A8%E8%AD%98.ipynb\" target=\"_parent\"><img src=\"https://colab.research.google.com/assets/colab-badge.svg\" alt=\"Open In Colab\"/></a>"
      ]
    },
    {
      "cell_type": "code",
      "execution_count": 58,
      "metadata": {
        "colab": {
          "base_uri": "https://localhost:8080/"
        },
        "id": "74tTaPJkklL8",
        "outputId": "5d1bf3cb-b9f3-4cfe-cb91-64cb3dbb4fbe"
      },
      "outputs": [
        {
          "output_type": "stream",
          "name": "stdout",
          "text": [
            "training...\n",
            "ok\n",
            "testing...\n",
            "[0. 3. 0. 3. 2. 3. 3. 1. 1. 2. 2. 0. 3. 2. 0. 3. 1. 1. 0. 2.]\n",
            "0.95\n"
          ]
        }
      ],
      "source": [
        "import numpy as np\n",
        "import cv2\n",
        "from google.colab.patches import cv2_imshow\n",
        "import os\n",
        "from keras import utils\n",
        "\n",
        "\n",
        "# 載入訓練資料\n",
        "\n",
        "flist1 = os.listdir(\"/content/文字辨識/訓練資料/x_train\") # 讀檔名\n",
        "x_train = np.empty([len(flist1),50,50])\n",
        "y_train = np.empty(len(flist1))\n",
        "x_dict = {\"血\":0, \"行\":1, \"衣\":2, \"西\":3}\n",
        "a = 0\n",
        "# 建立y_train.txt(因為os.listdir為亂序，所以要建立)\n",
        "with open('/content/文字辨識/訓練資料/y_train.txt', 'w') as f:\n",
        "  for i in flist1:\n",
        "\n",
        "    f.write(i[0])\n",
        "    f.write(\"\\n\")\n",
        "\n",
        "    x_train[a] = cv2.imread(f\"/content/文字辨識/訓練資料/x_train/{i}\", 0)\n",
        "    ret, x_train[a] = cv2.threshold(x_train[a], 127, 255, cv2.THRESH_BINARY_INV) # 黑白互換\n",
        "    y_train[a] = x_dict[i[0]]\n",
        "    a = a + 1\n",
        "# 載入測試資料\n",
        "\n",
        "flist2 = os.listdir(\"/content/文字辨識/測試資料/x_test\") # 讀檔名\n",
        "x_test = np.empty([len(flist2),50,50])\n",
        "y_test = np.empty(len(flist2))\n",
        "\n",
        "a = 0\n",
        "with open('/content/文字辨識/測試資料/y_test.txt', 'w') as f:\n",
        "  for i in flist2:\n",
        "\n",
        "    f.write(i[0])\n",
        "    f.write(\"\\n\")\n",
        "\n",
        "    x_test[a] = cv2.imread(f\"/content/文字辨識/測試資料/x_test/{i}\", 0)\n",
        "    ret, x_test[a] = cv2.threshold(x_test[a], 127, 255, cv2.THRESH_BINARY_INV) \n",
        "    y_test[a] = x_dict[i[0]]\n",
        "    a = a + 1\n",
        "\n",
        "# 訓練集資料\n",
        "x_train = x_train.reshape(x_train.shape[0],-1)  # 轉換資料形狀\n",
        "x_train = x_train.astype('float32')/255      # 轉換資料型別\n",
        "y_train = y_train.astype(np.float32)\n",
        "\n",
        "# 測試集資料\n",
        "x_test = x_test.reshape(x_test.shape[0],-1)    # 轉換資料形狀\n",
        "x_test = x_test.astype('float32')/255       # 轉換資料型別\n",
        "y_test = y_test.astype(np.float32)\n",
        "\n",
        "knn=cv2.ml.KNearest_create()       # 建立 KNN 訓練方法\n",
        "knn.setDefaultK(16)            # 參數設定\n",
        "knn.setIsClassifier(True)\n",
        "\n",
        "print('training...')\n",
        "knn.train(x_train, cv2.ml.ROW_SAMPLE, y_train)  # 開始訓練\n",
        "knn.save('tch_knn.xml')       # 儲存訓練模型\n",
        "print('ok')\n",
        "\n",
        "print('testing...')\n",
        "test_pre = knn.predict(x_test)    # 讀取測試集並進行辨識\n",
        "test_ret = test_pre[1]\n",
        "test_ret = test_ret.reshape(-1,)\n",
        "test_sum = (test_ret == y_test)\n",
        "acc = test_sum.mean()        # 得到準確率\n",
        "print(acc)"
      ]
    },
    {
      "cell_type": "code",
      "source": [
        "import cv2\n",
        "import numpy as np\n",
        "from google.colab.patches import cv2_imshow\n",
        "\n",
        "\n",
        "m = cv2.ml.KNearest_load('tch_knn.xml')   # 載入模型\n",
        "m1 = cv2.imread(\"/content/文字辨識/測試資料/x_test/血_45.png\", 0)\n",
        "ret, m1 = cv2.threshold(m1, 127, 255, cv2.THRESH_BINARY_INV)\n",
        "cv2_imshow(m1)\n",
        "cv2_imshom1 = m1.astype(np.float32)    # 轉換格式\n",
        "m1 = m1.reshape(-1,)          # 打散成一維陣列資料，轉換成辨識使用的格式\n",
        "m1 = m1.reshape(1,-1)\n",
        "m1 = m1/255\n",
        "img_pre = m.predict(m1)          # 進行辨識\n",
        "\n"
      ],
      "metadata": {
        "colab": {
          "base_uri": "https://localhost:8080/",
          "height": 304
        },
        "id": "DHBZsfPUNAQM",
        "outputId": "2b86bf65-9cba-41b5-9c05-65c36f392339"
      },
      "execution_count": 57,
      "outputs": [
        {
          "output_type": "display_data",
          "data": {
            "text/plain": [
              "<PIL.Image.Image image mode=L size=50x50 at 0x7F0B8EB1B210>"
            ],
            "image/png": "[encoded data removed]"
          },
          "metadata": {}
        },
        {
          "output_type": "error",
          "ename": "error",
          "evalue": "ignored",
          "traceback": [
            "\u001b[0;31m---------------------------------------------------------------------------\u001b[0m",
            "\u001b[0;31merror\u001b[0m                                     Traceback (most recent call last)",
            "\u001b[0;32m<ipython-input-57-38d82f0027d9>\u001b[0m in \u001b[0;36m<module>\u001b[0;34m\u001b[0m\n\u001b[1;32m     12\u001b[0m \u001b[0mm1\u001b[0m \u001b[0;34m=\u001b[0m \u001b[0mm1\u001b[0m\u001b[0;34m.\u001b[0m\u001b[0mreshape\u001b[0m\u001b[0;34m(\u001b[0m\u001b[0;36m1\u001b[0m\u001b[0;34m,\u001b[0m\u001b[0;34m-\u001b[0m\u001b[0;36m1\u001b[0m\u001b[0;34m)\u001b[0m\u001b[0;34m\u001b[0m\u001b[0;34m\u001b[0m\u001b[0m\n\u001b[1;32m     13\u001b[0m \u001b[0mm1\u001b[0m \u001b[0;34m=\u001b[0m \u001b[0mm1\u001b[0m\u001b[0;34m/\u001b[0m\u001b[0;36m255\u001b[0m\u001b[0;34m\u001b[0m\u001b[0;34m\u001b[0m\u001b[0m\n\u001b[0;32m---> 14\u001b[0;31m \u001b[0mimg_pre\u001b[0m \u001b[0;34m=\u001b[0m \u001b[0mm\u001b[0m\u001b[0;34m.\u001b[0m\u001b[0mpredict\u001b[0m\u001b[0;34m(\u001b[0m\u001b[0mm1\u001b[0m\u001b[0;34m)\u001b[0m          \u001b[0;31m# 進行辨識\u001b[0m\u001b[0;34m\u001b[0m\u001b[0;34m\u001b[0m\u001b[0m\n\u001b[0m\u001b[1;32m     15\u001b[0m \u001b[0;34m\u001b[0m\u001b[0m\n",
            "\u001b[0;31merror\u001b[0m: OpenCV(4.6.0) /io/opencv/modules/ml/src/knearest.cpp:313: error: (-215:Assertion failed) test_samples.type() == CV_32F && test_samples.cols == samples.cols in function 'findNearest'\n"
          ]
        }
      ]
    }
  ]
}